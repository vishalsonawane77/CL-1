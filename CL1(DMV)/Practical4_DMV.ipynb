{
 "cells": [
  {
   "cell_type": "code",
   "execution_count": null,
   "metadata": {
    "id": "YWzlzaBQo6yR"
   },
   "outputs": [],
   "source": [
    "# Step 1: Import and clean column names\n",
    "import pandas as pd\n",
    "df = pd.read_csv(\"RealEstate_Prices.csv\")\n",
    "df.columns = [col.strip().replace(\" \", \"_\").lower() for col in df.columns]\n",
    "\n",
    "# Step 2: Handle missing values\n",
    "missing_values = df.isnull().sum()\n",
    "if missing_values > 0:\n",
    "    # Imputation or removal strategy\n",
    "\n",
    "# Step 3: Perform data merging (if necessary)\n",
    "if additional_data:\n",
    "    df_merged = pd.merge(df, additional_data, on=\"property_id\")\n",
    "\n",
    "# Step 4: Filter and subset the data\n",
    "filtered_df = df.loc[(df[\"sale_date\"] >= \"2020-01-01\") & (df[\"property_type\"] == \"residential\")]\n",
    "\n",
    "# Step 5: Handle categorical variables\n",
    "categorical_cols = [\"property_type\", \"location\"]\n",
    "for col in categorical_cols:\n",
    "    df[col] = pd.get_dummies(df[col], drop_first=True)\n",
    "\n",
    "# Step 6: Aggregate the data\n",
    "aggregated_df = df.groupby(\"neighborhood\").agg({\"sale_price\": \"mean\"})\n",
    "\n",
    "# Step 7: Identify and handle outliers\n",
    "outliers = df[(df[\"sale_price\"] > 3 * df[\"sale_price\"].std()) | (df[\"sale_price\"] < -3 * df[\"sale_price\"].std())]\n",
    "# if outliers:\n",
    "    # Handle outliers"
   ]
  },
  {
   "cell_type": "markdown",
   "metadata": {
    "id": "DuVqm3Fbo6yV"
   },
   "source": [
    "# 1. Import the \"RealEstate_Prices.csv\" dataset. Clean column names by removing spaces, special characters, or renaming them for clarity."
   ]
  },
  {
   "cell_type": "code",
   "execution_count": null,
   "metadata": {
    "id": "pbRe1bofo6yW",
    "outputId": "ef073b1c-0578-49a2-fa17-26bac9f04a89"
   },
   "outputs": [
    {
     "data": {
      "text/plain": [
       "(Index(['property id', 'property type', 'neighborhood', 'bedrooms', 'bathrooms',\n",
       "        'area sq ft', 'year built', 'sale price', 'sale date'],\n",
       "       dtype='object'),\n",
       " Index(['property id', 'distance to amenities mi', 'crime rate',\n",
       "        'nearby schools', 'demographics population', 'nearby shopping centers',\n",
       "        'property taxes', 'house condition'],\n",
       "       dtype='object'))"
      ]
     },
     "execution_count": 18,
     "metadata": {},
     "output_type": "execute_result"
    }
   ],
   "source": [
    "import pandas as pd\n",
    "import numpy as np\n",
    "\n",
    "df = pd.read_csv('../../Datasets/RealEstate_Prices.csv')\n",
    "additional = pd.read_csv('../../Datasets/additional_info.csv')\n",
    "df.columns,additional.columns"
   ]
  },
  {
   "cell_type": "code",
   "execution_count": null,
   "metadata": {
    "id": "qJHPy6PSo6yX"
   },
   "outputs": [],
   "source": [
    "df.columns = [col.strip().replace(\" \", \"_\").lower() for col in df.columns]\n",
    "additional.columns = [col.strip().replace(\" \", \"_\").lower() for col in additional.columns]"
   ]
  },
  {
   "cell_type": "code",
   "execution_count": null,
   "metadata": {
    "id": "iWYFlFhpo6yY",
    "outputId": "bc2371d7-2be5-4b22-83c2-33d999d570de"
   },
   "outputs": [
    {
     "data": {
      "text/plain": [
       "(Index(['property_id', 'property_type', 'neighborhood', 'bedrooms', 'bathrooms',\n",
       "        'area_sq_ft', 'year_built', 'sale_price', 'sale_date'],\n",
       "       dtype='object'),\n",
       " Index(['property_id', 'distance_to_amenities_mi', 'crime_rate',\n",
       "        'nearby_schools', 'demographics_population', 'nearby_shopping_centers',\n",
       "        'property_taxes', 'house_condition'],\n",
       "       dtype='object'))"
      ]
     },
     "execution_count": 20,
     "metadata": {},
     "output_type": "execute_result"
    }
   ],
   "source": [
    "df.columns,additional.columns"
   ]
  },
  {
   "cell_type": "markdown",
   "metadata": {
    "id": "VNutOomfo6yZ"
   },
   "source": [
    "# 3. Perform data merging if additional datasets with relevant information are available (e.g., neighborhood demographics or nearby amenities)"
   ]
  },
  {
   "cell_type": "code",
   "execution_count": null,
   "metadata": {
    "id": "cyUySObOo6ya"
   },
   "outputs": [],
   "source": [
    "merged_df = pd.merge(df,additional,on='property_id',how='inner')"
   ]
  },
  {
   "cell_type": "markdown",
   "metadata": {
    "id": "8ixWwKK1o6yb"
   },
   "source": [
    "# 2. Handle missing values in the dataset, deciding on an appropriate strategy (e.g.,imputation or removal)."
   ]
  },
  {
   "cell_type": "code",
   "execution_count": null,
   "metadata": {
    "id": "wIA85w2So6yc",
    "outputId": "58c352ad-c400-4cc6-ff51-f551a1e94968"
   },
   "outputs": [
    {
     "data": {
      "text/plain": [
       "property_id                 0\n",
       "property_type               0\n",
       "neighborhood                0\n",
       "bedrooms                    5\n",
       "bathrooms                   0\n",
       "area_sq_ft                  2\n",
       "year_built                  0\n",
       "sale_price                  5\n",
       "sale_date                   0\n",
       "distance_to_amenities_mi    0\n",
       "crime_rate                  0\n",
       "nearby_schools              0\n",
       "demographics_population     3\n",
       "nearby_shopping_centers     0\n",
       "property_taxes              0\n",
       "house_condition             3\n",
       "dtype: int64"
      ]
     },
     "execution_count": 22,
     "metadata": {},
     "output_type": "execute_result"
    }
   ],
   "source": [
    "# checking for missing values\n",
    "merged_df.isna().sum()"
   ]
  },
  {
   "cell_type": "markdown",
   "metadata": {
    "id": "ReKtZ9GXo6yd"
   },
   "source": [
    "## Imputation"
   ]
  },
  {
   "cell_type": "code",
   "execution_count": null,
   "metadata": {
    "id": "g3CKydjQo6yd"
   },
   "outputs": [],
   "source": [
    "categorical_cols = ['bedrooms']\n",
    "numerical_cols = ['area_sq_ft','sale_price','demographics_population']\n",
    "\n",
    "for col in categorical_cols:\n",
    "    merged_df[col] = merged_df[col].fillna(merged_df[col].mode()[0])\n",
    "\n",
    "for col in numerical_cols:\n",
    "    merged_df[col] = merged_df[col].fillna(merged_df[col].mean())"
   ]
  },
  {
   "cell_type": "code",
   "execution_count": null,
   "metadata": {
    "id": "L_cv-2ZPo6ye",
    "outputId": "3cb680ce-3a95-4d33-867e-2e7d7a6bba59"
   },
   "outputs": [
    {
     "data": {
      "text/plain": [
       "property_id                 0\n",
       "property_type               0\n",
       "neighborhood                0\n",
       "bedrooms                    0\n",
       "bathrooms                   0\n",
       "area_sq_ft                  0\n",
       "year_built                  0\n",
       "sale_price                  0\n",
       "sale_date                   0\n",
       "distance_to_amenities_mi    0\n",
       "crime_rate                  0\n",
       "nearby_schools              0\n",
       "demographics_population     0\n",
       "nearby_shopping_centers     0\n",
       "property_taxes              0\n",
       "house_condition             3\n",
       "dtype: int64"
      ]
     },
     "execution_count": 26,
     "metadata": {},
     "output_type": "execute_result"
    }
   ],
   "source": [
    "merged_df.isna().sum()"
   ]
  },
  {
   "cell_type": "markdown",
   "metadata": {
    "id": "60dJg2y9o6yf"
   },
   "source": [
    "## Removal"
   ]
  },
  {
   "cell_type": "code",
   "execution_count": null,
   "metadata": {
    "id": "IbLYEDMMo6yf"
   },
   "outputs": [],
   "source": [
    "merged_df = merged_df.dropna()"
   ]
  },
  {
   "cell_type": "code",
   "execution_count": null,
   "metadata": {
    "id": "j8I2ob-ho6yg",
    "outputId": "9b9c0c3e-3ab5-4ca2-cb1a-c35d7a63029f"
   },
   "outputs": [
    {
     "data": {
      "text/plain": [
       "property_id                 0\n",
       "property_type               0\n",
       "neighborhood                0\n",
       "bedrooms                    0\n",
       "bathrooms                   0\n",
       "area_sq_ft                  0\n",
       "year_built                  0\n",
       "sale_price                  0\n",
       "sale_date                   0\n",
       "distance_to_amenities_mi    0\n",
       "crime_rate                  0\n",
       "nearby_schools              0\n",
       "demographics_population     0\n",
       "nearby_shopping_centers     0\n",
       "property_taxes              0\n",
       "house_condition             0\n",
       "dtype: int64"
      ]
     },
     "execution_count": 40,
     "metadata": {},
     "output_type": "execute_result"
    }
   ],
   "source": [
    "merged_df.isna().sum()"
   ]
  },
  {
   "cell_type": "markdown",
   "metadata": {
    "id": "-sfzUgl0o6yg"
   },
   "source": [
    "# 4. Filter and subset the data based on specific criteria, such as a particular time period, property type, or location."
   ]
  },
  {
   "cell_type": "code",
   "execution_count": null,
   "metadata": {
    "id": "9FwR1bcso6yh",
    "outputId": "83a5d29e-155e-49e6-cca8-837481a2b726"
   },
   "outputs": [
    {
     "data": {
      "text/html": [
       "<div>\n",
       "<style scoped>\n",
       "    .dataframe tbody tr th:only-of-type {\n",
       "        vertical-align: middle;\n",
       "    }\n",
       "\n",
       "    .dataframe tbody tr th {\n",
       "        vertical-align: top;\n",
       "    }\n",
       "\n",
       "    .dataframe thead th {\n",
       "        text-align: right;\n",
       "    }\n",
       "</style>\n",
       "<table border=\"1\" class=\"dataframe\">\n",
       "  <thead>\n",
       "    <tr style=\"text-align: right;\">\n",
       "      <th></th>\n",
       "      <th>property_id</th>\n",
       "      <th>property_type</th>\n",
       "      <th>neighborhood</th>\n",
       "      <th>bedrooms</th>\n",
       "      <th>bathrooms</th>\n",
       "      <th>area_sq_ft</th>\n",
       "      <th>year_built</th>\n",
       "      <th>sale_price</th>\n",
       "      <th>sale_date</th>\n",
       "      <th>distance_to_amenities_mi</th>\n",
       "      <th>crime_rate</th>\n",
       "      <th>nearby_schools</th>\n",
       "      <th>demographics_population</th>\n",
       "      <th>nearby_shopping_centers</th>\n",
       "      <th>property_taxes</th>\n",
       "      <th>house_condition</th>\n",
       "    </tr>\n",
       "  </thead>\n",
       "  <tbody>\n",
       "    <tr>\n",
       "      <th>0</th>\n",
       "      <td>1001</td>\n",
       "      <td>Apartment</td>\n",
       "      <td>Downtown</td>\n",
       "      <td>3.0</td>\n",
       "      <td>2</td>\n",
       "      <td>1154.000000</td>\n",
       "      <td>2001</td>\n",
       "      <td>341218.0</td>\n",
       "      <td>29-09-2020</td>\n",
       "      <td>0.5</td>\n",
       "      <td>Low</td>\n",
       "      <td>3</td>\n",
       "      <td>50000.0</td>\n",
       "      <td>5</td>\n",
       "      <td>10000</td>\n",
       "      <td>Good</td>\n",
       "    </tr>\n",
       "    <tr>\n",
       "      <th>4</th>\n",
       "      <td>1005</td>\n",
       "      <td>Apartment</td>\n",
       "      <td>Downtown</td>\n",
       "      <td>2.0</td>\n",
       "      <td>1</td>\n",
       "      <td>976.000000</td>\n",
       "      <td>2013</td>\n",
       "      <td>297985.0</td>\n",
       "      <td>21-05-2022</td>\n",
       "      <td>0.8</td>\n",
       "      <td>Low</td>\n",
       "      <td>3</td>\n",
       "      <td>52000.0</td>\n",
       "      <td>4</td>\n",
       "      <td>3500</td>\n",
       "      <td>Good</td>\n",
       "    </tr>\n",
       "    <tr>\n",
       "      <th>17</th>\n",
       "      <td>1018</td>\n",
       "      <td>Apartment</td>\n",
       "      <td>Suburban</td>\n",
       "      <td>2.0</td>\n",
       "      <td>1</td>\n",
       "      <td>3602.916667</td>\n",
       "      <td>2022</td>\n",
       "      <td>180891.0</td>\n",
       "      <td>26-06-2021</td>\n",
       "      <td>1.0</td>\n",
       "      <td>Medium</td>\n",
       "      <td>2</td>\n",
       "      <td>48000.0</td>\n",
       "      <td>6</td>\n",
       "      <td>1800</td>\n",
       "      <td>Fair</td>\n",
       "    </tr>\n",
       "    <tr>\n",
       "      <th>34</th>\n",
       "      <td>1035</td>\n",
       "      <td>Apartment</td>\n",
       "      <td>Downtown</td>\n",
       "      <td>2.0</td>\n",
       "      <td>1</td>\n",
       "      <td>924.000000</td>\n",
       "      <td>2018</td>\n",
       "      <td>349800.0</td>\n",
       "      <td>30-12-2022</td>\n",
       "      <td>0.8</td>\n",
       "      <td>Low</td>\n",
       "      <td>3</td>\n",
       "      <td>52000.0</td>\n",
       "      <td>4</td>\n",
       "      <td>3500</td>\n",
       "      <td>Good</td>\n",
       "    </tr>\n",
       "    <tr>\n",
       "      <th>47</th>\n",
       "      <td>1048</td>\n",
       "      <td>Apartment</td>\n",
       "      <td>Suburban</td>\n",
       "      <td>2.0</td>\n",
       "      <td>1</td>\n",
       "      <td>714.000000</td>\n",
       "      <td>2016</td>\n",
       "      <td>180722.0</td>\n",
       "      <td>30-04-2021</td>\n",
       "      <td>1.0</td>\n",
       "      <td>Medium</td>\n",
       "      <td>2</td>\n",
       "      <td>48000.0</td>\n",
       "      <td>6</td>\n",
       "      <td>1800</td>\n",
       "      <td>Fair</td>\n",
       "    </tr>\n",
       "  </tbody>\n",
       "</table>\n",
       "</div>"
      ],
      "text/plain": [
       "    property_id property_type neighborhood  bedrooms  bathrooms   area_sq_ft  \\\n",
       "0          1001     Apartment     Downtown       3.0          2  1154.000000   \n",
       "4          1005     Apartment     Downtown       2.0          1   976.000000   \n",
       "17         1018     Apartment     Suburban       2.0          1  3602.916667   \n",
       "34         1035     Apartment     Downtown       2.0          1   924.000000   \n",
       "47         1048     Apartment     Suburban       2.0          1   714.000000   \n",
       "\n",
       "    year_built  sale_price   sale_date  distance_to_amenities_mi crime_rate  \\\n",
       "0         2001    341218.0  29-09-2020                       0.5        Low   \n",
       "4         2013    297985.0  21-05-2022                       0.8        Low   \n",
       "17        2022    180891.0  26-06-2021                       1.0     Medium   \n",
       "34        2018    349800.0  30-12-2022                       0.8        Low   \n",
       "47        2016    180722.0  30-04-2021                       1.0     Medium   \n",
       "\n",
       "    nearby_schools  demographics_population  nearby_shopping_centers  \\\n",
       "0                3                  50000.0                        5   \n",
       "4                3                  52000.0                        4   \n",
       "17               2                  48000.0                        6   \n",
       "34               3                  52000.0                        4   \n",
       "47               2                  48000.0                        6   \n",
       "\n",
       "    property_taxes house_condition  \n",
       "0            10000            Good  \n",
       "4             3500            Good  \n",
       "17            1800            Fair  \n",
       "34            3500            Good  \n",
       "47            1800            Fair  "
      ]
     },
     "execution_count": 41,
     "metadata": {},
     "output_type": "execute_result"
    }
   ],
   "source": [
    "filtered_df = merged_df[(merged_df[\"sale_date\"] >= \"2020-01-01\") & (merged_df[\"property_type\"] == \"Apartment\")]\n",
    "filtered_df"
   ]
  },
  {
   "cell_type": "markdown",
   "metadata": {
    "id": "OrFFbzDWo6yh"
   },
   "source": [
    "# 5. Handle categorical variables by encoding them appropriately (e.g., one-hot encoding or label encoding) for further analysis."
   ]
  },
  {
   "cell_type": "code",
   "execution_count": null,
   "metadata": {
    "id": "QROUZwgpo6yi"
   },
   "outputs": [],
   "source": [
    "from sklearn.preprocessing import LabelEncoder\n",
    "\n",
    "categorical_cols = ['property_type',\n",
    "'neighborhood',\n",
    "'crime_rate',\n",
    "'house_condition']\n",
    "\n",
    "enc = LabelEncoder()\n",
    "\n",
    "for col in categorical_cols:\n",
    "    merged_df[col] = enc.fit_transform(merged_df[col])"
   ]
  },
  {
   "cell_type": "code",
   "execution_count": null,
   "metadata": {
    "id": "aBPUWmBxo6yi",
    "outputId": "e7234000-fcf3-4ef1-bcc1-50d934a0cd79"
   },
   "outputs": [
    {
     "data": {
      "text/html": [
       "<div>\n",
       "<style scoped>\n",
       "    .dataframe tbody tr th:only-of-type {\n",
       "        vertical-align: middle;\n",
       "    }\n",
       "\n",
       "    .dataframe tbody tr th {\n",
       "        vertical-align: top;\n",
       "    }\n",
       "\n",
       "    .dataframe thead th {\n",
       "        text-align: right;\n",
       "    }\n",
       "</style>\n",
       "<table border=\"1\" class=\"dataframe\">\n",
       "  <thead>\n",
       "    <tr style=\"text-align: right;\">\n",
       "      <th></th>\n",
       "      <th>property_id</th>\n",
       "      <th>property_type</th>\n",
       "      <th>neighborhood</th>\n",
       "      <th>bedrooms</th>\n",
       "      <th>bathrooms</th>\n",
       "      <th>area_sq_ft</th>\n",
       "      <th>year_built</th>\n",
       "      <th>sale_price</th>\n",
       "      <th>sale_date</th>\n",
       "      <th>distance_to_amenities_mi</th>\n",
       "      <th>crime_rate</th>\n",
       "      <th>nearby_schools</th>\n",
       "      <th>demographics_population</th>\n",
       "      <th>nearby_shopping_centers</th>\n",
       "      <th>property_taxes</th>\n",
       "      <th>house_condition</th>\n",
       "    </tr>\n",
       "  </thead>\n",
       "  <tbody>\n",
       "    <tr>\n",
       "      <th>0</th>\n",
       "      <td>1001</td>\n",
       "      <td>0</td>\n",
       "      <td>0</td>\n",
       "      <td>3.0</td>\n",
       "      <td>2</td>\n",
       "      <td>1154.0</td>\n",
       "      <td>2001</td>\n",
       "      <td>341218.000000</td>\n",
       "      <td>29-09-2020</td>\n",
       "      <td>0.5</td>\n",
       "      <td>1</td>\n",
       "      <td>3</td>\n",
       "      <td>50000.0</td>\n",
       "      <td>5</td>\n",
       "      <td>10000</td>\n",
       "      <td>2</td>\n",
       "    </tr>\n",
       "    <tr>\n",
       "      <th>1</th>\n",
       "      <td>1002</td>\n",
       "      <td>2</td>\n",
       "      <td>2</td>\n",
       "      <td>4.0</td>\n",
       "      <td>3</td>\n",
       "      <td>2553.0</td>\n",
       "      <td>2014</td>\n",
       "      <td>490564.000000</td>\n",
       "      <td>03-04-2021</td>\n",
       "      <td>1.2</td>\n",
       "      <td>2</td>\n",
       "      <td>4</td>\n",
       "      <td>60000.0</td>\n",
       "      <td>2</td>\n",
       "      <td>4000</td>\n",
       "      <td>0</td>\n",
       "    </tr>\n",
       "    <tr>\n",
       "      <th>2</th>\n",
       "      <td>1003</td>\n",
       "      <td>1</td>\n",
       "      <td>3</td>\n",
       "      <td>2.0</td>\n",
       "      <td>1</td>\n",
       "      <td>821.0</td>\n",
       "      <td>2008</td>\n",
       "      <td>488715.466667</td>\n",
       "      <td>15-04-2020</td>\n",
       "      <td>0.3</td>\n",
       "      <td>0</td>\n",
       "      <td>1</td>\n",
       "      <td>40000.0</td>\n",
       "      <td>8</td>\n",
       "      <td>2000</td>\n",
       "      <td>1</td>\n",
       "    </tr>\n",
       "    <tr>\n",
       "      <th>3</th>\n",
       "      <td>1004</td>\n",
       "      <td>2</td>\n",
       "      <td>2</td>\n",
       "      <td>5.0</td>\n",
       "      <td>4</td>\n",
       "      <td>3018.0</td>\n",
       "      <td>2004</td>\n",
       "      <td>560852.000000</td>\n",
       "      <td>25-08-2020</td>\n",
       "      <td>2.5</td>\n",
       "      <td>1</td>\n",
       "      <td>5</td>\n",
       "      <td>70000.0</td>\n",
       "      <td>3</td>\n",
       "      <td>5000</td>\n",
       "      <td>0</td>\n",
       "    </tr>\n",
       "    <tr>\n",
       "      <th>4</th>\n",
       "      <td>1005</td>\n",
       "      <td>0</td>\n",
       "      <td>0</td>\n",
       "      <td>2.0</td>\n",
       "      <td>1</td>\n",
       "      <td>976.0</td>\n",
       "      <td>2013</td>\n",
       "      <td>297985.000000</td>\n",
       "      <td>21-05-2022</td>\n",
       "      <td>0.8</td>\n",
       "      <td>1</td>\n",
       "      <td>3</td>\n",
       "      <td>52000.0</td>\n",
       "      <td>4</td>\n",
       "      <td>3500</td>\n",
       "      <td>2</td>\n",
       "    </tr>\n",
       "  </tbody>\n",
       "</table>\n",
       "</div>"
      ],
      "text/plain": [
       "   property_id  property_type  neighborhood  bedrooms  bathrooms  area_sq_ft  \\\n",
       "0         1001              0             0       3.0          2      1154.0   \n",
       "1         1002              2             2       4.0          3      2553.0   \n",
       "2         1003              1             3       2.0          1       821.0   \n",
       "3         1004              2             2       5.0          4      3018.0   \n",
       "4         1005              0             0       2.0          1       976.0   \n",
       "\n",
       "   year_built     sale_price   sale_date  distance_to_amenities_mi  \\\n",
       "0        2001  341218.000000  29-09-2020                       0.5   \n",
       "1        2014  490564.000000  03-04-2021                       1.2   \n",
       "2        2008  488715.466667  15-04-2020                       0.3   \n",
       "3        2004  560852.000000  25-08-2020                       2.5   \n",
       "4        2013  297985.000000  21-05-2022                       0.8   \n",
       "\n",
       "   crime_rate  nearby_schools  demographics_population  \\\n",
       "0           1               3                  50000.0   \n",
       "1           2               4                  60000.0   \n",
       "2           0               1                  40000.0   \n",
       "3           1               5                  70000.0   \n",
       "4           1               3                  52000.0   \n",
       "\n",
       "   nearby_shopping_centers  property_taxes  house_condition  \n",
       "0                        5           10000                2  \n",
       "1                        2            4000                0  \n",
       "2                        8            2000                1  \n",
       "3                        3            5000                0  \n",
       "4                        4            3500                2  "
      ]
     },
     "execution_count": 44,
     "metadata": {},
     "output_type": "execute_result"
    }
   ],
   "source": [
    "merged_df.head()"
   ]
  },
  {
   "cell_type": "markdown",
   "metadata": {
    "id": "WU8SRxTXo6yj"
   },
   "source": [
    "# 6. Aggregate the data to calculate summary statistics or derived metrics such as average sale prices by neighborhood or property type."
   ]
  },
  {
   "cell_type": "code",
   "execution_count": null,
   "metadata": {
    "id": "EH3a3EiRo6yj",
    "outputId": "8ac0ea10-3c10-42f6-c51e-b7a9b3eec1aa"
   },
   "outputs": [
    {
     "data": {
      "text/html": [
       "<div>\n",
       "<style scoped>\n",
       "    .dataframe tbody tr th:only-of-type {\n",
       "        vertical-align: middle;\n",
       "    }\n",
       "\n",
       "    .dataframe tbody tr th {\n",
       "        vertical-align: top;\n",
       "    }\n",
       "\n",
       "    .dataframe thead th {\n",
       "        text-align: right;\n",
       "    }\n",
       "</style>\n",
       "<table border=\"1\" class=\"dataframe\">\n",
       "  <thead>\n",
       "    <tr style=\"text-align: right;\">\n",
       "      <th></th>\n",
       "      <th>sale_price</th>\n",
       "    </tr>\n",
       "    <tr>\n",
       "      <th>neighborhood</th>\n",
       "      <th></th>\n",
       "    </tr>\n",
       "  </thead>\n",
       "  <tbody>\n",
       "    <tr>\n",
       "      <th>0</th>\n",
       "      <td>317621.200000</td>\n",
       "    </tr>\n",
       "    <tr>\n",
       "      <th>1</th>\n",
       "      <td>569359.500000</td>\n",
       "    </tr>\n",
       "    <tr>\n",
       "      <th>2</th>\n",
       "      <td>412905.473684</td>\n",
       "    </tr>\n",
       "    <tr>\n",
       "      <th>3</th>\n",
       "      <td>886419.985185</td>\n",
       "    </tr>\n",
       "  </tbody>\n",
       "</table>\n",
       "</div>"
      ],
      "text/plain": [
       "                 sale_price\n",
       "neighborhood               \n",
       "0             317621.200000\n",
       "1             569359.500000\n",
       "2             412905.473684\n",
       "3             886419.985185"
      ]
     },
     "execution_count": 45,
     "metadata": {},
     "output_type": "execute_result"
    }
   ],
   "source": [
    "aggregated_df = merged_df.groupby(\"neighborhood\").agg({\"sale_price\": \"mean\"})\n",
    "aggregated_df"
   ]
  },
  {
   "cell_type": "markdown",
   "metadata": {
    "id": "PftH_YOro6yj"
   },
   "source": [
    "# 7. Identify and handle outliers or extreme values in the data that may affect the analysis or modeling process."
   ]
  },
  {
   "cell_type": "code",
   "execution_count": null,
   "metadata": {
    "id": "rKAVxyQKo6yk",
    "outputId": "1352d380-d16b-466a-ff21-fb3ec7674ab1"
   },
   "outputs": [
    {
     "data": {
      "image/png": "[encoded data removed]",
      "text/plain": [
       "<Figure size 640x480 with 1 Axes>"
      ]
     },
     "metadata": {},
     "output_type": "display_data"
    },
    {
     "data": {
      "image/png": "[encoded data removed]",
      "text/plain": [
       "<Figure size 640x480 with 1 Axes>"
      ]
     },
     "metadata": {},
     "output_type": "display_data"
    },
    {
     "data": {
      "image/png": "[encoded data removed]",
      "text/plain": [
       "<Figure size 640x480 with 1 Axes>"
      ]
     },
     "metadata": {},
     "output_type": "display_data"
    },
    {
     "data": {
      "image/png": "[encoded data removed]",
      "text/plain": [
       "<Figure size 640x480 with 1 Axes>"
      ]
     },
     "metadata": {},
     "output_type": "display_data"
    },
    {
     "data": {
      "image/png": "[encoded data removed]",
      "text/plain": [
       "<Figure size 640x480 with 1 Axes>"
      ]
     },
     "metadata": {},
     "output_type": "display_data"
    }
   ],
   "source": [
    "import seaborn as sns\n",
    "import matplotlib.pyplot as plt\n",
    "\n",
    "cols = [\n",
    "'area_sq_ft',\n",
    "'sale_price',\n",
    "'distance_to_amenities_mi',\n",
    "'demographics_population',\n",
    "'property_taxes'\n",
    "]\n",
    "\n",
    "for col in cols:\n",
    "    sns.boxplot(merged_df[col])\n",
    "    plt.show()"
   ]
  },
  {
   "cell_type": "code",
   "execution_count": null,
   "metadata": {
    "id": "bK--k15xo6yk",
    "outputId": "15478ca5-73dc-4837-f7a8-27c8b247e1a1"
   },
   "outputs": [
    {
     "data": {
      "text/html": [
       "<div>\n",
       "<style scoped>\n",
       "    .dataframe tbody tr th:only-of-type {\n",
       "        vertical-align: middle;\n",
       "    }\n",
       "\n",
       "    .dataframe tbody tr th {\n",
       "        vertical-align: top;\n",
       "    }\n",
       "\n",
       "    .dataframe thead th {\n",
       "        text-align: right;\n",
       "    }\n",
       "</style>\n",
       "<table border=\"1\" class=\"dataframe\">\n",
       "  <thead>\n",
       "    <tr style=\"text-align: right;\">\n",
       "      <th></th>\n",
       "      <th>property_id</th>\n",
       "      <th>property_type</th>\n",
       "      <th>neighborhood</th>\n",
       "      <th>bedrooms</th>\n",
       "      <th>bathrooms</th>\n",
       "      <th>area_sq_ft</th>\n",
       "      <th>year_built</th>\n",
       "      <th>sale_price</th>\n",
       "      <th>sale_date</th>\n",
       "      <th>distance_to_amenities_mi</th>\n",
       "      <th>crime_rate</th>\n",
       "      <th>nearby_schools</th>\n",
       "      <th>demographics_population</th>\n",
       "      <th>nearby_shopping_centers</th>\n",
       "      <th>property_taxes</th>\n",
       "      <th>house_condition</th>\n",
       "    </tr>\n",
       "  </thead>\n",
       "  <tbody>\n",
       "    <tr>\n",
       "      <th>5</th>\n",
       "      <td>1006</td>\n",
       "      <td>1</td>\n",
       "      <td>3</td>\n",
       "      <td>3.0</td>\n",
       "      <td>2</td>\n",
       "      <td>1399.0</td>\n",
       "      <td>2020</td>\n",
       "      <td>1117439.0</td>\n",
       "      <td>09-05-2020</td>\n",
       "      <td>0.6</td>\n",
       "      <td>0</td>\n",
       "      <td>2</td>\n",
       "      <td>45000.0</td>\n",
       "      <td>7</td>\n",
       "      <td>3200</td>\n",
       "      <td>2</td>\n",
       "    </tr>\n",
       "    <tr>\n",
       "      <th>15</th>\n",
       "      <td>1016</td>\n",
       "      <td>1</td>\n",
       "      <td>3</td>\n",
       "      <td>3.0</td>\n",
       "      <td>2</td>\n",
       "      <td>1365.0</td>\n",
       "      <td>2021</td>\n",
       "      <td>1124017.0</td>\n",
       "      <td>29-08-2020</td>\n",
       "      <td>0.6</td>\n",
       "      <td>0</td>\n",
       "      <td>2</td>\n",
       "      <td>45000.0</td>\n",
       "      <td>7</td>\n",
       "      <td>3200</td>\n",
       "      <td>2</td>\n",
       "    </tr>\n",
       "    <tr>\n",
       "      <th>25</th>\n",
       "      <td>1026</td>\n",
       "      <td>1</td>\n",
       "      <td>3</td>\n",
       "      <td>3.0</td>\n",
       "      <td>2</td>\n",
       "      <td>1452.0</td>\n",
       "      <td>2013</td>\n",
       "      <td>1268442.0</td>\n",
       "      <td>08-03-2021</td>\n",
       "      <td>0.6</td>\n",
       "      <td>0</td>\n",
       "      <td>2</td>\n",
       "      <td>45000.0</td>\n",
       "      <td>7</td>\n",
       "      <td>3200</td>\n",
       "      <td>2</td>\n",
       "    </tr>\n",
       "    <tr>\n",
       "      <th>35</th>\n",
       "      <td>1036</td>\n",
       "      <td>1</td>\n",
       "      <td>3</td>\n",
       "      <td>3.0</td>\n",
       "      <td>2</td>\n",
       "      <td>1390.0</td>\n",
       "      <td>2019</td>\n",
       "      <td>1274015.0</td>\n",
       "      <td>02-08-2020</td>\n",
       "      <td>0.6</td>\n",
       "      <td>0</td>\n",
       "      <td>2</td>\n",
       "      <td>45000.0</td>\n",
       "      <td>7</td>\n",
       "      <td>3200</td>\n",
       "      <td>2</td>\n",
       "    </tr>\n",
       "    <tr>\n",
       "      <th>45</th>\n",
       "      <td>1046</td>\n",
       "      <td>1</td>\n",
       "      <td>3</td>\n",
       "      <td>3.0</td>\n",
       "      <td>2</td>\n",
       "      <td>20003.0</td>\n",
       "      <td>2020</td>\n",
       "      <td>1239005.0</td>\n",
       "      <td>07-11-2021</td>\n",
       "      <td>0.6</td>\n",
       "      <td>0</td>\n",
       "      <td>2</td>\n",
       "      <td>45000.0</td>\n",
       "      <td>7</td>\n",
       "      <td>3200</td>\n",
       "      <td>2</td>\n",
       "    </tr>\n",
       "  </tbody>\n",
       "</table>\n",
       "</div>"
      ],
      "text/plain": [
       "    property_id  property_type  neighborhood  bedrooms  bathrooms  area_sq_ft  \\\n",
       "5          1006              1             3       3.0          2      1399.0   \n",
       "15         1016              1             3       3.0          2      1365.0   \n",
       "25         1026              1             3       3.0          2      1452.0   \n",
       "35         1036              1             3       3.0          2      1390.0   \n",
       "45         1046              1             3       3.0          2     20003.0   \n",
       "\n",
       "    year_built  sale_price   sale_date  distance_to_amenities_mi  crime_rate  \\\n",
       "5         2020   1117439.0  09-05-2020                       0.6           0   \n",
       "15        2021   1124017.0  29-08-2020                       0.6           0   \n",
       "25        2013   1268442.0  08-03-2021                       0.6           0   \n",
       "35        2019   1274015.0  02-08-2020                       0.6           0   \n",
       "45        2020   1239005.0  07-11-2021                       0.6           0   \n",
       "\n",
       "    nearby_schools  demographics_population  nearby_shopping_centers  \\\n",
       "5                2                  45000.0                        7   \n",
       "15               2                  45000.0                        7   \n",
       "25               2                  45000.0                        7   \n",
       "35               2                  45000.0                        7   \n",
       "45               2                  45000.0                        7   \n",
       "\n",
       "    property_taxes  house_condition  \n",
       "5             3200                2  \n",
       "15            3200                2  \n",
       "25            3200                2  \n",
       "35            3200                2  \n",
       "45            3200                2  "
      ]
     },
     "execution_count": 47,
     "metadata": {},
     "output_type": "execute_result"
    }
   ],
   "source": [
    "merged_df[(merged_df[\"sale_price\"] > 3 * merged_df[\"sale_price\"].std()) | (merged_df[\"sale_price\"] < -3 * merged_df[\"sale_price\"].std())]"
   ]
  },
  {
   "cell_type": "code",
   "execution_count": null,
   "metadata": {
    "id": "hrNSN83mo6yl"
   },
   "outputs": [],
   "source": []
  }
 ],
 "metadata": {
  "colab": {
   "provenance": []
  },
  "kernelspec": {
   "display_name": "Python 3 (ipykernel)",
   "language": "python",
   "name": "python3"
  },
  "language_info": {
   "codemirror_mode": {
    "name": "ipython",
    "version": 3
   },
   "file_extension": ".py",
   "mimetype": "text/x-python",
   "name": "python",
   "nbconvert_exporter": "python",
   "pygments_lexer": "ipython3",
   "version": "3.12.3"
  }
 },
 "nbformat": 4,
 "nbformat_minor": 4
}

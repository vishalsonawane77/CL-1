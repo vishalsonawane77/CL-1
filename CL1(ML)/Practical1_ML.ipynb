{
  "cells": [
    {
      "cell_type": "markdown",
      "id": "48822f90",
      "metadata": {
        "id": "48822f90"
      },
      "source": [
        "## Feature Transformation\n",
        "1. To use PCA Algorithm for dimensionality reduction.\n",
        "You have a dataset that includes measurements for different variables on wine\n",
        "(alcohol, ash, magnesium, and so on). Apply PCA algorithm & transform this data\n",
        "so that most variations in the measurements of the variables are captured by a small\n",
        "number of principal components so that it is easier to distinguish between red and\n",
        "white wine by inspecting these principal components.\n",
        "Dataset Link: https://media.geeksforgeeks.org/wp-content/uploads/Wine.csv"
      ]
    },
    {
      "cell_type": "code",
      "execution_count": null,
      "id": "87e85ed2",
      "metadata": {
        "id": "87e85ed2"
      },
      "outputs": [],
      "source": [
        "import numpy as np\n",
        "import pandas as pd\n",
        "from sklearn.preprocessing import StandardScaler\n",
        "import seaborn as sns"
      ]
    },
    {
      "cell_type": "code",
      "execution_count": null,
      "id": "a0c05eb9",
      "metadata": {
        "id": "a0c05eb9"
      },
      "outputs": [],
      "source": [
        "data = pd.read_csv('Wine.csv')"
      ]
    },
    {
      "cell_type": "code",
      "execution_count": null,
      "id": "c269ae25",
      "metadata": {
        "scrolled": false,
        "id": "c269ae25",
        "outputId": "520b2f74-32bd-4324-edf5-1f27b37e1623"
      },
      "outputs": [
        {
          "data": {
            "text/html": [
              "<div>\n",
              "<style scoped>\n",
              "    .dataframe tbody tr th:only-of-type {\n",
              "        vertical-align: middle;\n",
              "    }\n",
              "\n",
              "    .dataframe tbody tr th {\n",
              "        vertical-align: top;\n",
              "    }\n",
              "\n",
              "    .dataframe thead th {\n",
              "        text-align: right;\n",
              "    }\n",
              "</style>\n",
              "<table border=\"1\" class=\"dataframe\">\n",
              "  <thead>\n",
              "    <tr style=\"text-align: right;\">\n",
              "      <th></th>\n",
              "      <th>Alcohol</th>\n",
              "      <th>Malic_Acid</th>\n",
              "      <th>Ash</th>\n",
              "      <th>Ash_Alcanity</th>\n",
              "      <th>Magnesium</th>\n",
              "      <th>Total_Phenols</th>\n",
              "      <th>Flavanoids</th>\n",
              "      <th>Nonflavanoid_Phenols</th>\n",
              "      <th>Proanthocyanins</th>\n",
              "      <th>Color_Intensity</th>\n",
              "      <th>Hue</th>\n",
              "      <th>OD280</th>\n",
              "      <th>Proline</th>\n",
              "      <th>Customer_Segment</th>\n",
              "    </tr>\n",
              "  </thead>\n",
              "  <tbody>\n",
              "    <tr>\n",
              "      <th>73</th>\n",
              "      <td>12.99</td>\n",
              "      <td>1.67</td>\n",
              "      <td>2.6</td>\n",
              "      <td>30.0</td>\n",
              "      <td>139</td>\n",
              "      <td>3.3</td>\n",
              "      <td>2.89</td>\n",
              "      <td>0.21</td>\n",
              "      <td>1.96</td>\n",
              "      <td>3.35</td>\n",
              "      <td>1.31</td>\n",
              "      <td>3.5</td>\n",
              "      <td>985</td>\n",
              "      <td>2</td>\n",
              "    </tr>\n",
              "  </tbody>\n",
              "</table>\n",
              "</div>"
            ],
            "text/plain": [
              "    Alcohol  Malic_Acid  Ash  Ash_Alcanity  Magnesium  Total_Phenols  \\\n",
              "73    12.99        1.67  2.6          30.0        139            3.3   \n",
              "\n",
              "    Flavanoids  Nonflavanoid_Phenols  Proanthocyanins  Color_Intensity   Hue  \\\n",
              "73        2.89                  0.21             1.96             3.35  1.31   \n",
              "\n",
              "    OD280  Proline  Customer_Segment  \n",
              "73    3.5      985                 2  "
            ]
          },
          "execution_count": 3,
          "metadata": {},
          "output_type": "execute_result"
        }
      ],
      "source": [
        "data.sample()"
      ]
    },
    {
      "cell_type": "code",
      "execution_count": null,
      "id": "fa7700ae",
      "metadata": {
        "id": "fa7700ae",
        "outputId": "109980f9-157a-4357-abad-4abf6a77466e"
      },
      "outputs": [
        {
          "data": {
            "text/plain": [
              "Alcohol                 0\n",
              "Malic_Acid              0\n",
              "Ash                     0\n",
              "Ash_Alcanity            0\n",
              "Magnesium               0\n",
              "Total_Phenols           0\n",
              "Flavanoids              0\n",
              "Nonflavanoid_Phenols    0\n",
              "Proanthocyanins         0\n",
              "Color_Intensity         0\n",
              "Hue                     0\n",
              "OD280                   0\n",
              "Proline                 0\n",
              "Customer_Segment        0\n",
              "dtype: int64"
            ]
          },
          "execution_count": 4,
          "metadata": {},
          "output_type": "execute_result"
        }
      ],
      "source": [
        "data.isnull().sum()"
      ]
    },
    {
      "cell_type": "code",
      "execution_count": null,
      "id": "4644355f",
      "metadata": {
        "id": "4644355f"
      },
      "outputs": [],
      "source": [
        "x = data.drop(columns=['Customer_Segment'])\n",
        "y = data['Customer_Segment']"
      ]
    },
    {
      "cell_type": "code",
      "execution_count": null,
      "id": "c14ecb05",
      "metadata": {
        "id": "c14ecb05",
        "outputId": "9f4ca6d4-2487-4aba-9f34-8407d7c45146"
      },
      "outputs": [
        {
          "data": {
            "text/plain": [
              "((178, 13), (178,))"
            ]
          },
          "execution_count": 6,
          "metadata": {},
          "output_type": "execute_result"
        }
      ],
      "source": [
        "x.shape,y.shape"
      ]
    },
    {
      "cell_type": "code",
      "execution_count": null,
      "id": "97a1a4a3",
      "metadata": {
        "id": "97a1a4a3"
      },
      "outputs": [],
      "source": [
        "xscaled = StandardScaler()"
      ]
    },
    {
      "cell_type": "code",
      "execution_count": null,
      "id": "a1a9cf27",
      "metadata": {
        "id": "a1a9cf27"
      },
      "outputs": [],
      "source": [
        "x_scaled = xscaled.fit_transform(x)"
      ]
    },
    {
      "cell_type": "code",
      "execution_count": null,
      "id": "6627de06",
      "metadata": {
        "id": "6627de06",
        "outputId": "2bc25eea-7293-4d9f-e461-60ef40be0840"
      },
      "outputs": [
        {
          "data": {
            "text/plain": [
              "array([[ 1.51861254, -0.5622498 ,  0.23205254, ...,  0.36217728,\n",
              "         1.84791957,  1.01300893],\n",
              "       [ 0.24628963, -0.49941338, -0.82799632, ...,  0.40605066,\n",
              "         1.1134493 ,  0.96524152],\n",
              "       [ 0.19687903,  0.02123125,  1.10933436, ...,  0.31830389,\n",
              "         0.78858745,  1.39514818],\n",
              "       ...,\n",
              "       [ 0.33275817,  1.74474449, -0.38935541, ..., -1.61212515,\n",
              "        -1.48544548,  0.28057537],\n",
              "       [ 0.20923168,  0.22769377,  0.01273209, ..., -1.56825176,\n",
              "        -1.40069891,  0.29649784],\n",
              "       [ 1.39508604,  1.58316512,  1.36520822, ..., -1.52437837,\n",
              "        -1.42894777, -0.59516041]])"
            ]
          },
          "execution_count": 9,
          "metadata": {},
          "output_type": "execute_result"
        }
      ],
      "source": [
        "x_scaled"
      ]
    },
    {
      "cell_type": "code",
      "execution_count": null,
      "id": "e0777cb1",
      "metadata": {
        "id": "e0777cb1"
      },
      "outputs": [],
      "source": [
        "from sklearn.decomposition import PCA"
      ]
    },
    {
      "cell_type": "code",
      "execution_count": null,
      "id": "fd56cf62",
      "metadata": {
        "id": "fd56cf62"
      },
      "outputs": [],
      "source": [
        "pca = PCA(n_components=2)"
      ]
    },
    {
      "cell_type": "code",
      "execution_count": null,
      "id": "39357361",
      "metadata": {
        "id": "39357361"
      },
      "outputs": [],
      "source": [
        "x_pca = pca.fit_transform(x_scaled)"
      ]
    },
    {
      "cell_type": "code",
      "execution_count": null,
      "id": "7e338f0e",
      "metadata": {
        "id": "7e338f0e",
        "outputId": "cbb71932-590d-4475-a3c3-be1e7c458929"
      },
      "outputs": [
        {
          "data": {
            "text/plain": [
              "(178, 2)"
            ]
          },
          "execution_count": 13,
          "metadata": {},
          "output_type": "execute_result"
        }
      ],
      "source": [
        "x_pca.shape"
      ]
    },
    {
      "cell_type": "code",
      "execution_count": null,
      "id": "7e20ae6d",
      "metadata": {
        "id": "7e20ae6d",
        "outputId": "7fb93166-d0e3-4a34-9096-c0a09bf21ac9"
      },
      "outputs": [
        {
          "data": {
            "text/plain": [
              "array([[ 3.31675081, -1.44346263],\n",
              "       [ 2.20946492,  0.33339289],\n",
              "       [ 2.51674015, -1.0311513 ],\n",
              "       [ 3.75706561, -2.75637191],\n",
              "       [ 1.00890849, -0.86983082],\n",
              "       [ 3.05025392, -2.12240111],\n",
              "       [ 2.44908967, -1.17485013],\n",
              "       [ 2.05943687, -1.60896307],\n",
              "       [ 2.5108743 , -0.91807096],\n",
              "       [ 2.75362819, -0.78943767],\n",
              "       [ 3.47973668, -1.30233324],\n",
              "       [ 1.7547529 , -0.61197723],\n",
              "       [ 2.11346234, -0.67570634],\n",
              "       [ 3.45815682, -1.13062988],\n",
              "       [ 4.31278391, -2.09597558],\n",
              "       [ 2.3051882 , -1.66255173],\n",
              "       [ 2.17195527, -2.32730534],\n",
              "       [ 1.89897118, -1.63136888],\n",
              "       [ 3.54198508, -2.51834367],\n",
              "       [ 2.0845222 , -1.06113799],\n",
              "       [ 3.12440254, -0.78689711],\n",
              "       [ 1.08657007, -0.24174355],\n",
              "       [ 2.53522408,  0.09184062],\n",
              "       [ 1.64498834,  0.51627893],\n",
              "       [ 1.76157587,  0.31714893],\n",
              "       [ 0.9900791 , -0.94066734],\n",
              "       [ 1.77527763, -0.68617513],\n",
              "       [ 1.23542396,  0.08980704],\n",
              "       [ 2.18840633, -0.68956962],\n",
              "       [ 2.25610898, -0.19146194],\n",
              "       [ 2.50022003, -1.24083383],\n",
              "       [ 2.67741105, -1.47187365],\n",
              "       [ 1.62857912, -0.05270445],\n",
              "       [ 1.90269086, -1.63306043],\n",
              "       [ 1.41038853, -0.69793432],\n",
              "       [ 1.90382623, -0.17671095],\n",
              "       [ 1.38486223, -0.65863985],\n",
              "       [ 1.12220741, -0.11410976],\n",
              "       [ 1.5021945 ,  0.76943201],\n",
              "       [ 2.52980109, -1.80300198],\n",
              "       [ 2.58809543, -0.7796163 ],\n",
              "       [ 0.66848199, -0.16996094],\n",
              "       [ 3.07080699, -1.15591896],\n",
              "       [ 0.46220914, -0.33074213],\n",
              "       [ 2.10135193,  0.07100892],\n",
              "       [ 1.13616618, -1.77710739],\n",
              "       [ 2.72660096, -1.19133469],\n",
              "       [ 2.82133927, -0.6462586 ],\n",
              "       [ 2.00985085, -1.24702946],\n",
              "       [ 2.7074913 , -1.75196741],\n",
              "       [ 3.21491747, -0.16699199],\n",
              "       [ 2.85895983, -0.7452788 ],\n",
              "       [ 3.50560436, -1.61273386],\n",
              "       [ 2.22479138, -1.875168  ],\n",
              "       [ 2.14698782, -1.01675154],\n",
              "       [ 2.46932948, -1.32900831],\n",
              "       [ 2.74151791, -1.43654878],\n",
              "       [ 2.17374092, -1.21219984],\n",
              "       [ 3.13938015, -1.73157912],\n",
              "       [-0.92858197,  3.07348616],\n",
              "       [-1.54248014,  1.38144351],\n",
              "       [-1.83624976,  0.82998412],\n",
              "       [ 0.03060683,  1.26278614],\n",
              "       [ 2.05026161,  1.9250326 ],\n",
              "       [-0.60968083,  1.90805881],\n",
              "       [ 0.90022784,  0.76391147],\n",
              "       [ 2.24850719,  1.88459248],\n",
              "       [ 0.18338403,  2.42714611],\n",
              "       [-0.81280503,  0.22051399],\n",
              "       [ 1.9756205 ,  1.40328323],\n",
              "       [-1.57221622,  0.88498314],\n",
              "       [ 1.65768181,  0.9567122 ],\n",
              "       [-0.72537239,  1.0636454 ],\n",
              "       [ 2.56222717, -0.26019855],\n",
              "       [ 1.83256757,  1.2878782 ],\n",
              "       [-0.8679929 ,  2.44410119],\n",
              "       [ 0.3700144 ,  2.15390698],\n",
              "       [-1.45737704,  1.38335177],\n",
              "       [ 1.26293085,  0.77084953],\n",
              "       [ 0.37615037,  1.0270434 ],\n",
              "       [ 0.7620639 ,  3.37505381],\n",
              "       [ 1.03457797,  1.45070974],\n",
              "       [-0.49487676,  2.38124353],\n",
              "       [-2.53897708,  0.08744336],\n",
              "       [ 0.83532015,  1.47367055],\n",
              "       [ 0.78790461,  2.02662652],\n",
              "       [-0.80683216,  2.23383039],\n",
              "       [-0.55804262,  2.37298543],\n",
              "       [-1.11511104,  1.80224719],\n",
              "       [-0.55572283,  2.65754004],\n",
              "       [-1.34928528,  2.11800147],\n",
              "       [-1.56448261,  1.85221452],\n",
              "       [-1.93255561,  1.55949546],\n",
              "       [ 0.74666594,  2.31293171],\n",
              "       [ 0.95745536,  2.22352843],\n",
              "       [ 2.54386518, -0.16927402],\n",
              "       [-0.54395259,  0.36892655],\n",
              "       [ 1.03104975,  2.56556935],\n",
              "       [ 2.25190942,  1.43274138],\n",
              "       [ 1.41021602,  2.16619177],\n",
              "       [ 0.79771979,  2.3769488 ],\n",
              "       [-0.54953173,  2.29312864],\n",
              "       [-0.16117374,  1.16448332],\n",
              "       [-0.65979494,  2.67996119],\n",
              "       [ 0.39235441,  2.09873171],\n",
              "       [-1.77249908,  1.71728847],\n",
              "       [-0.36626736,  2.1693533 ],\n",
              "       [-1.62067257,  1.35558339],\n",
              "       [ 0.08253578,  2.30623459],\n",
              "       [ 1.57827507,  1.46203429],\n",
              "       [ 1.42056925,  1.41820664],\n",
              "       [-0.27870275,  1.93056809],\n",
              "       [-1.30314497,  0.76317231],\n",
              "       [-0.45707187,  2.26941561],\n",
              "       [-0.49418585,  1.93904505],\n",
              "       [ 0.48207441,  3.87178385],\n",
              "       [-0.25288888,  2.82149237],\n",
              "       [-0.10722764,  1.92892204],\n",
              "       [-2.4330126 ,  1.25714104],\n",
              "       [-0.55108954,  2.22216155],\n",
              "       [ 0.73962193,  1.40895667],\n",
              "       [ 1.33632173, -0.25333693],\n",
              "       [-1.177087  ,  0.66396684],\n",
              "       [-0.46233501,  0.61828818],\n",
              "       [ 0.97847408,  1.4455705 ],\n",
              "       [-0.09680973,  2.10999799],\n",
              "       [ 0.03848715,  1.26676211],\n",
              "       [-1.5971585 ,  1.20814357],\n",
              "       [-0.47956492,  1.93884066],\n",
              "       [-1.79283347,  1.1502881 ],\n",
              "       [-1.32710166, -0.17038923],\n",
              "       [-2.38450083, -0.37458261],\n",
              "       [-2.9369401 , -0.26386183],\n",
              "       [-2.14681113, -0.36825495],\n",
              "       [-2.36986949,  0.45963481],\n",
              "       [-3.06384157, -0.35341284],\n",
              "       [-3.91575378, -0.15458252],\n",
              "       [-3.93646339, -0.65968723],\n",
              "       [-3.09427612, -0.34884276],\n",
              "       [-2.37447163, -0.29198035],\n",
              "       [-2.77881295, -0.28680487],\n",
              "       [-2.28656128, -0.37250784],\n",
              "       [-2.98563349, -0.48921791],\n",
              "       [-2.3751947 , -0.48233372],\n",
              "       [-2.20986553, -1.1600525 ],\n",
              "       [-2.625621  , -0.56316076],\n",
              "       [-4.28063878, -0.64967096],\n",
              "       [-3.58264137, -1.27270275],\n",
              "       [-2.80706372, -1.57053379],\n",
              "       [-2.89965933, -2.04105701],\n",
              "       [-2.32073698, -2.35636608],\n",
              "       [-2.54983095, -2.04528309],\n",
              "       [-1.81254128, -1.52764595],\n",
              "       [-2.76014464, -2.13893235],\n",
              "       [-2.7371505 , -0.40988627],\n",
              "       [-3.60486887, -1.80238422],\n",
              "       [-2.889826  , -1.92521861],\n",
              "       [-3.39215608, -1.31187639],\n",
              "       [-1.0481819 , -3.51508969],\n",
              "       [-1.60991228, -2.40663816],\n",
              "       [-3.14313097, -0.73816104],\n",
              "       [-2.2401569 , -1.17546529],\n",
              "       [-2.84767378, -0.55604397],\n",
              "       [-2.59749706, -0.69796554],\n",
              "       [-2.94929937, -1.55530896],\n",
              "       [-3.53003227, -0.8825268 ],\n",
              "       [-2.40611054, -2.59235618],\n",
              "       [-2.92908473, -1.27444695],\n",
              "       [-2.18141278, -2.07753731],\n",
              "       [-2.38092779, -2.58866743],\n",
              "       [-3.21161722,  0.2512491 ],\n",
              "       [-3.67791872, -0.84774784],\n",
              "       [-2.4655558 , -2.1937983 ],\n",
              "       [-3.37052415, -2.21628914],\n",
              "       [-2.60195585, -1.75722935],\n",
              "       [-2.67783946, -2.76089913],\n",
              "       [-2.38701709, -2.29734668],\n",
              "       [-3.20875816, -2.76891957]])"
            ]
          },
          "execution_count": 14,
          "metadata": {},
          "output_type": "execute_result"
        }
      ],
      "source": [
        "x_pca"
      ]
    },
    {
      "cell_type": "code",
      "execution_count": null,
      "id": "8418324b",
      "metadata": {
        "id": "8418324b"
      },
      "outputs": [],
      "source": [
        "principal_df = pd.DataFrame(data=x_pca,columns=['PC1', 'PC2'])"
      ]
    },
    {
      "cell_type": "code",
      "execution_count": null,
      "id": "fe0d7cf1",
      "metadata": {
        "id": "fe0d7cf1"
      },
      "outputs": [],
      "source": [
        "final_df = pd.concat([principal_df, y], axis=1)"
      ]
    },
    {
      "cell_type": "code",
      "execution_count": null,
      "id": "3290d20a",
      "metadata": {
        "id": "3290d20a",
        "outputId": "15012ee2-aa35-48f5-bb4a-9523fbbb026a"
      },
      "outputs": [
        {
          "data": {
            "text/html": [
              "<div>\n",
              "<style scoped>\n",
              "    .dataframe tbody tr th:only-of-type {\n",
              "        vertical-align: middle;\n",
              "    }\n",
              "\n",
              "    .dataframe tbody tr th {\n",
              "        vertical-align: top;\n",
              "    }\n",
              "\n",
              "    .dataframe thead th {\n",
              "        text-align: right;\n",
              "    }\n",
              "</style>\n",
              "<table border=\"1\" class=\"dataframe\">\n",
              "  <thead>\n",
              "    <tr style=\"text-align: right;\">\n",
              "      <th></th>\n",
              "      <th>PC1</th>\n",
              "      <th>PC2</th>\n",
              "      <th>Customer_Segment</th>\n",
              "    </tr>\n",
              "  </thead>\n",
              "  <tbody>\n",
              "    <tr>\n",
              "      <th>0</th>\n",
              "      <td>3.316751</td>\n",
              "      <td>-1.443463</td>\n",
              "      <td>1</td>\n",
              "    </tr>\n",
              "    <tr>\n",
              "      <th>1</th>\n",
              "      <td>2.209465</td>\n",
              "      <td>0.333393</td>\n",
              "      <td>1</td>\n",
              "    </tr>\n",
              "    <tr>\n",
              "      <th>2</th>\n",
              "      <td>2.516740</td>\n",
              "      <td>-1.031151</td>\n",
              "      <td>1</td>\n",
              "    </tr>\n",
              "    <tr>\n",
              "      <th>3</th>\n",
              "      <td>3.757066</td>\n",
              "      <td>-2.756372</td>\n",
              "      <td>1</td>\n",
              "    </tr>\n",
              "    <tr>\n",
              "      <th>4</th>\n",
              "      <td>1.008908</td>\n",
              "      <td>-0.869831</td>\n",
              "      <td>1</td>\n",
              "    </tr>\n",
              "  </tbody>\n",
              "</table>\n",
              "</div>"
            ],
            "text/plain": [
              "        PC1       PC2  Customer_Segment\n",
              "0  3.316751 -1.443463                 1\n",
              "1  2.209465  0.333393                 1\n",
              "2  2.516740 -1.031151                 1\n",
              "3  3.757066 -2.756372                 1\n",
              "4  1.008908 -0.869831                 1"
            ]
          },
          "execution_count": 17,
          "metadata": {},
          "output_type": "execute_result"
        }
      ],
      "source": [
        "final_df.head()"
      ]
    },
    {
      "cell_type": "code",
      "execution_count": null,
      "id": "af4503c7",
      "metadata": {
        "id": "af4503c7",
        "outputId": "5f28628e-a2d0-4b7b-b459-b2d0012dc4dc"
      },
      "outputs": [
        {
          "data": {
            "image/png": "[encoded data removed]",
            "text/plain": [
              "<Figure size 432x288 with 1 Axes>"
            ]
          },
          "metadata": {
            "needs_background": "light"
          },
          "output_type": "display_data"
        }
      ],
      "source": [
        "import matplotlib.pyplot as plt\n",
        "import seaborn as sns\n",
        "\n",
        "sns.scatterplot(x='PC1', y='PC2', hue='Customer_Segment', data=final_df)\n",
        "plt.title('PCA: Wine Dataset')\n",
        "plt.show()\n"
      ]
    },
    {
      "cell_type": "code",
      "execution_count": null,
      "id": "b7fcae11",
      "metadata": {
        "id": "b7fcae11"
      },
      "outputs": [],
      "source": []
    }
  ],
  "metadata": {
    "kernelspec": {
      "display_name": "Python 3 (ipykernel)",
      "language": "python",
      "name": "python3"
    },
    "language_info": {
      "codemirror_mode": {
        "name": "ipython",
        "version": 3
      },
      "file_extension": ".py",
      "mimetype": "text/x-python",
      "name": "python",
      "nbconvert_exporter": "python",
      "pygments_lexer": "ipython3",
      "version": "3.10.9"
    },
    "colab": {
      "provenance": []
    }
  },
  "nbformat": 4,
  "nbformat_minor": 5
}